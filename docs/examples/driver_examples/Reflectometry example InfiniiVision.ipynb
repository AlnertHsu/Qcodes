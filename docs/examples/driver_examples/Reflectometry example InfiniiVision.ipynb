{
 "cells": [
  {
   "cell_type": "code",
   "execution_count": 1,
   "metadata": {
    "collapsed": true
   },
   "outputs": [],
   "source": [
    "%matplotlib inline"
   ]
  },
  {
   "cell_type": "markdown",
   "metadata": {},
   "source": [
    "### Importing Dependencies"
   ]
  },
  {
   "cell_type": "code",
   "execution_count": 2,
   "metadata": {
    "collapsed": true
   },
   "outputs": [],
   "source": [
    "# python imports\n",
    "import logging\n",
    "# third party\n",
    "import matplotlib.pyplot as plt\n",
    "\n",
    "# qcodes imports\n",
    "import qcodes as qc\n",
    "import qcodes.instrument_drivers.agilent.InfiniiVision_reflectometry as DSO\n",
    "import qcodes.instrument_drivers.agilent.Agilent_33500B as Agilent\n",
    "\n",
    "#setup\n",
    "logger = logging.getLogger()\n",
    "logger.setLevel(logging.DEBUG)"
   ]
  },
  {
   "cell_type": "markdown",
   "metadata": {},
   "source": [
    "### Create the Instrument\n",
    "please insert the right address of your local scope (TCPIP...) you can find the address with the NI-MAX app or within the network settings of the scope."
   ]
  },
  {
   "cell_type": "code",
   "execution_count": 3,
   "metadata": {},
   "outputs": [
    {
     "name": "stdout",
     "output_type": "stream",
     "text": [
      "Connected to: AGILENT TECHNOLOGIES DSO-X 3104A (serial:MY51500149, firmware:02.41.2015102200) in 0.09s\n"
     ]
    },
    {
     "name": "stderr",
     "output_type": "stream",
     "text": [
      "/Users/sschaal/anaconda/lib/python3.6/site-packages/qcodes-0.1.7-py3.6.egg/qcodes/instrument/parameter.py:207: UserWarning: Wrapping get method, original get method will not be directly accessible. It is recommended to define get_raw in your subclass instead.\n",
      "  warnings.warn('Wrapping get method, original get method will not '\n"
     ]
    }
   ],
   "source": [
    "dso = DSO.InfiniiVision('DSO', 'USB0::0x0957::0x17A0::MY51500149::INSTR')"
   ]
  },
  {
   "cell_type": "code",
   "execution_count": 4,
   "metadata": {},
   "outputs": [
    {
     "name": "stdout",
     "output_type": "stream",
     "text": [
      "Connected to: Agilent Technologies 33521B (serial:MY52700477, firmware:2.03-1.19-2.00-52-00) in 0.04s\n"
     ]
    }
   ],
   "source": [
    "awg=Agilent.Agilent_33500B('AWG', 'GPIB0::10::INSTR', channel=1)"
   ]
  },
  {
   "cell_type": "markdown",
   "metadata": {},
   "source": [
    "### Prepare Trace\n"
   ]
  },
  {
   "cell_type": "code",
   "execution_count": 5,
   "metadata": {
    "collapsed": true
   },
   "outputs": [],
   "source": [
    "#for i in range(4):\n",
    "#    dso.channels[i].display(False)\n",
    "#dso.ch4.display(True) #TRIG\n",
    "#dso.ch1.display(True) #I\n",
    "#dso.ch2.display(True) #Q\n",
    "\n",
    "#dso.ch4.range(5)\n",
    "#dso.ch4.offset(1)\n",
    "#dso.trigger_edge_source('CHANnel4')\n",
    "#dso.trigger_edge_slope('negative')\n",
    "#dso.ch4.trigger_level(1)"
   ]
  },
  {
   "cell_type": "markdown",
   "metadata": {},
   "source": [
    "# settings for reflectometry"
   ]
  },
  {
   "cell_type": "code",
   "execution_count": 6,
   "metadata": {
    "collapsed": true
   },
   "outputs": [],
   "source": [
    "#dso.ch1.range(1)\n",
    "\n",
    "#f_rf=83\n",
    "#dso.timebase_range(1/(2*f_rf))\n",
    "#dso.timebase_position(-1/(4*f_rf))"
   ]
  },
  {
   "cell_type": "code",
   "execution_count": 7,
   "metadata": {
    "collapsed": true
   },
   "outputs": [],
   "source": []
  },
  {
   "cell_type": "code",
   "execution_count": 8,
   "metadata": {
    "scrolled": true
   },
   "outputs": [
    {
     "data": {
      "text/plain": [
       "125000"
      ]
     },
     "execution_count": 8,
     "metadata": {},
     "output_type": "execute_result"
    }
   ],
   "source": [
    "dso.acquire_points()"
   ]
  },
  {
   "cell_type": "markdown",
   "metadata": {},
   "source": [
    "## Data Acquisition\n"
   ]
  },
  {
   "cell_type": "code",
   "execution_count": 14,
   "metadata": {
    "collapsed": true
   },
   "outputs": [],
   "source": [
    "#nPoints = 50000; #numeric data not allowed\n",
    "#mso.acquire_points(nPoints)# this is not settable for DSO, always 50000\n",
    "#mso.acquire_sample_rate(nPoints/mso.timebase_range()) # this is not setable for DSO always 5GSa/s"
   ]
  },
  {
   "cell_type": "code",
   "execution_count": 5,
   "metadata": {
    "collapsed": true
   },
   "outputs": [],
   "source": [
    "dso.rf_frequency(83)\n",
    "\n",
    "dso.rf_start(0.1)\n",
    "\n",
    "dso.rf_end(0.5)"
   ]
  },
  {
   "cell_type": "code",
   "execution_count": 6,
   "metadata": {
    "collapsed": true
   },
   "outputs": [],
   "source": [
    "dso.waveform_points(1000)\n",
    "\n",
    "dso.acquisition_type('AVER')\n",
    "\n",
    "dso.average_count(10)"
   ]
  },
  {
   "cell_type": "code",
   "execution_count": 7,
   "metadata": {
    "collapsed": true
   },
   "outputs": [],
   "source": [
    "dso.rf_trace.setup_reflectometry()\n",
    "dso.setup_AWG(awg)"
   ]
  },
  {
   "cell_type": "code",
   "execution_count": 14,
   "metadata": {
    "collapsed": true
   },
   "outputs": [],
   "source": [
    "dso.timeout(20+int(dso.average_count()/200))"
   ]
  },
  {
   "cell_type": "code",
   "execution_count": 8,
   "metadata": {
    "collapsed": true
   },
   "outputs": [],
   "source": [
    "dso.ch1.range(1)\n",
    "\n",
    "dso.ch2.range(0.1)"
   ]
  },
  {
   "cell_type": "code",
   "execution_count": 9,
   "metadata": {},
   "outputs": [
    {
     "name": "stdout",
     "output_type": "stream",
     "text": [
      "DataSet:\n",
      "   location = 'data/2017-11-15/#010_{name}_14-16-06'\n",
      "   <Type>   | <array_id>    | <array.name> | <array.shape>\n",
      "   Setpoint | Sweep_set     | Sweep        | (1000,)\n",
      "   Measured | DSO_I         | I            | (1000,)\n",
      "   Measured | DSO_Q         | Q            | (1000,)\n",
      "   Measured | DSO_magnitude | magnitude    | (1000,)\n",
      "   Measured | DSO_phase     | phase        | (1000,)\n",
      "acquired at 2017-11-15 14:16:07\n"
     ]
    }
   ],
   "source": [
    "data = qc.Measure(dso.rf_trace).run()"
   ]
  },
  {
   "cell_type": "code",
   "execution_count": 10,
   "metadata": {
    "scrolled": false
   },
   "outputs": [
    {
     "data": {
      "image/png": "[encoded data removed]",
      "text/plain": [
       "<matplotlib.figure.Figure at 0x11db1fcc0>"
      ]
     },
     "metadata": {},
     "output_type": "display_data"
    }
   ],
   "source": [
    "plot = qc.MatPlot(data.DSO_I, data.DSO_Q)"
   ]
  },
  {
   "cell_type": "code",
   "execution_count": null,
   "metadata": {
    "collapsed": true
   },
   "outputs": [],
   "source": []
  }
 ],
 "metadata": {
  "kernelspec": {
   "display_name": "Python 3",
   "language": "python",
   "name": "python3"
  },
  "language_info": {
   "codemirror_mode": {
    "name": "ipython",
    "version": 3
   },
   "file_extension": ".py",
   "mimetype": "text/x-python",
   "name": "python",
   "nbconvert_exporter": "python",
   "pygments_lexer": "ipython3",
   "version": "3.6.1"
  }
 },
 "nbformat": 4,
 "nbformat_minor": 2
}
