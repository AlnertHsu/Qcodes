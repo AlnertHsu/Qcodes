{
 "cells": [
  {
   "cell_type": "markdown",
   "metadata": {
    "collapsed": true
   },
   "source": [
    "# Inexpensive Prologix GPIB-ETH controller\n",
    "* IP address can be configure to be static or DHCP (currnetly static: 192.168.2.2), requires special software to change\n",
    "* you can talk to the controller through port 1234 as a Visa or IP Instrument  -> \"TCPIP::192.168.2.2::1234::SOCKET\"\n",
    "* the controller supports controller mode ++mode 1 or device mode ++mode 0\n",
    "* we have to tell the controller with every command which gpib instrument it should tak to using ++addr xx\n",
    "* we have to specify if the controller should make the instrument listen ++auto 0 or if we want to make it talk ++auto 1\n",
    "* I have edited the visa.py of QCodes to always send along these commands whenever write or ask of VisaInstrument is called\n",
    "* we can find out more about the controller using ++ver and ++help\n",
    "\n",
    "\n"
   ]
  },
  {
   "cell_type": "markdown",
   "metadata": {},
   "source": [
    "## Try using PyVisa"
   ]
  },
  {
   "cell_type": "code",
   "execution_count": 1,
   "metadata": {},
   "outputs": [],
   "source": [
    "import visa\n",
    "rm = visa.ResourceManager()"
   ]
  },
  {
   "cell_type": "code",
   "execution_count": 2,
   "metadata": {},
   "outputs": [],
   "source": [
    "gpib = rm.open_resource(\"TCPIP::192.168.2.2::1234::SOCKET\") # Or whatever IP you have"
   ]
  },
  {
   "cell_type": "code",
   "execution_count": 3,
   "metadata": {},
   "outputs": [],
   "source": [
    "gpib.read_termination='\\n'\n",
    "gpib.write_termination='\\n'"
   ]
  },
  {
   "cell_type": "code",
   "execution_count": 4,
   "metadata": {},
   "outputs": [
    {
     "data": {
      "text/plain": [
       "'Prologix GPIB-ETHERNET Controller version 01.06.06.00\\r'"
      ]
     },
     "execution_count": 4,
     "metadata": {},
     "output_type": "execute_result"
    }
   ],
   "source": [
    "gpib.query('++ver')"
   ]
  },
  {
   "cell_type": "code",
   "execution_count": 5,
   "metadata": {},
   "outputs": [
    {
     "data": {
      "text/plain": [
       "(8, <StatusCode.success: 0>)"
      ]
     },
     "execution_count": 5,
     "metadata": {},
     "output_type": "execute_result"
    }
   ],
   "source": [
    "gpib.write(\"++addr 10\") # if GPIB device's number is 9\n",
    "gpib.write('++mode 1')\n",
    "gpib.write(\"++auto 0\") # if you want to make the device \"listen\" (i.e. accept commands); use value 1 instead to make it \"talk\" (i.e. request a read automatically after write)\n",
    "gpib.write(\"++eoi 1\") # Check docs for details\n",
    "gpib.write(\"++eos 3\") # Check docs for line ending behaviour\n"
   ]
  },
  {
   "cell_type": "code",
   "execution_count": 6,
   "metadata": {},
   "outputs": [
    {
     "data": {
      "text/plain": [
       "'10\\r'"
      ]
     },
     "execution_count": 6,
     "metadata": {},
     "output_type": "execute_result"
    }
   ],
   "source": [
    "gpib.query(\"++addr\")"
   ]
  },
  {
   "cell_type": "code",
   "execution_count": 7,
   "metadata": {
    "scrolled": true
   },
   "outputs": [
    {
     "data": {
      "text/plain": [
       "'Agilent Technologies,33521B,MY52700477,2.03-1.19-2.00-52-00'"
      ]
     },
     "execution_count": 7,
     "metadata": {},
     "output_type": "execute_result"
    }
   ],
   "source": [
    "gpib.ask('++addr 10\\n++auto 1\\n*idn?')"
   ]
  },
  {
   "cell_type": "code",
   "execution_count": 18,
   "metadata": {},
   "outputs": [
    {
     "data": {
      "text/plain": [
       "(39, <StatusCode.success: 0>)"
      ]
     },
     "execution_count": 18,
     "metadata": {},
     "output_type": "execute_result"
    }
   ],
   "source": [
    "gpib.write('++addr 10\\n++auto 0\\nSOUR1:VOLT:OFFSET 1')"
   ]
  },
  {
   "cell_type": "code",
   "execution_count": null,
   "metadata": {},
   "outputs": [],
   "source": [
    "gpib.ask('++addr 2\\n++auto 0\\nCF\\r')"
   ]
  },
  {
   "cell_type": "markdown",
   "metadata": {},
   "source": [
    "# Resources\n",
    "* http://prologix.biz/downloads/PrologixGpibEthernetManual.pdf\n",
    "* https://github.com/nelsond/prologix-gpib-ethernet"
   ]
  }
 ],
 "metadata": {
  "kernelspec": {
   "display_name": "Python 3",
   "language": "python",
   "name": "python3"
  },
  "language_info": {
   "codemirror_mode": {
    "name": "ipython",
    "version": 3
   },
   "file_extension": ".py",
   "mimetype": "text/x-python",
   "name": "python",
   "nbconvert_exporter": "python",
   "pygments_lexer": "ipython3",
   "version": "3.6.8"
  },
  "toc": {
   "base_numbering": 1,
   "nav_menu": {},
   "number_sections": false,
   "sideBar": false,
   "skip_h1_title": false,
   "title_cell": "Table of Contents",
   "title_sidebar": "Contents",
   "toc_cell": false,
   "toc_position": {},
   "toc_section_display": false,
   "toc_window_display": false
  }
 },
 "nbformat": 4,
 "nbformat_minor": 2
}
